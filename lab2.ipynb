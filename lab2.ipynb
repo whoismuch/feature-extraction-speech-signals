{
 "cells": [
  {
   "cell_type": "markdown",
   "source": [
    "## ИНФОРМАТИВНЫЕ ПРИЗНАКИ РЕЧЕВЫХ СИГНАЛОВ: ИЗВЛЕЧЕНИЕ ПРИЗНАКОВ\n",
    "\n",
    "**Цель работы**:\n",
    " изучение процедуры построения информативных\n",
    "акустических признаков для речевых сигналов.\n",
    "\n",
    "**Краткое описание**: \n",
    "в рамках настоящей лабораторной работы требуется\n",
    "познакомиться с процедурами предобработки речевых сигналов и извлечения\n",
    "информативных признаков. В работе предлагается научиться извлекать\n",
    "кратковременные энергии мел-частотных полос и мел-частотные\n",
    "кепстральные коэффициенты.\n",
    "\n",
    "**Данные**:\n",
    "в качестве данных для выполнения лаборатор"
   ],
   "metadata": {
    "collapsed": false
   },
   "id": "b1e609df92b2b7c0"
  },
  {
   "cell_type": "code",
   "outputs": [
    {
     "name": "stdout",
     "output_type": "stream",
     "text": [
      "Collecting torchaudio\r\n",
      "  Obtaining dependency information for torchaudio from https://files.pythonhosted.org/packages/3f/6f/79fe2cb91908b3d3a57b8ef68911123f797c0fb05a268a6da86cc5a67484/torchaudio-2.2.2-cp311-cp311-macosx_11_0_arm64.whl.metadata\r\n",
      "  Downloading torchaudio-2.2.2-cp311-cp311-macosx_11_0_arm64.whl.metadata (6.4 kB)\r\n",
      "Collecting torch==2.2.2 (from torchaudio)\r\n",
      "  Obtaining dependency information for torch==2.2.2 from https://files.pythonhosted.org/packages/96/23/18b9c16c18a77755e7f15173821c7100f11e6b3b7717bea8d729bdeb92c0/torch-2.2.2-cp311-none-macosx_11_0_arm64.whl.metadata\r\n",
      "  Downloading torch-2.2.2-cp311-none-macosx_11_0_arm64.whl.metadata (25 kB)\r\n",
      "Requirement already satisfied: filelock in /Users/khumachbayramova/anaconda3/lib/python3.11/site-packages (from torch==2.2.2->torchaudio) (3.9.0)\r\n",
      "Requirement already satisfied: typing-extensions>=4.8.0 in /Users/khumachbayramova/anaconda3/lib/python3.11/site-packages (from torch==2.2.2->torchaudio) (4.10.0)\r\n",
      "Requirement already satisfied: sympy in /Users/khumachbayramova/anaconda3/lib/python3.11/site-packages (from torch==2.2.2->torchaudio) (1.11.1)\r\n",
      "Requirement already satisfied: networkx in /Users/khumachbayramova/anaconda3/lib/python3.11/site-packages (from torch==2.2.2->torchaudio) (3.1)\r\n",
      "Requirement already satisfied: jinja2 in /Users/khumachbayramova/anaconda3/lib/python3.11/site-packages (from torch==2.2.2->torchaudio) (3.1.2)\r\n",
      "Requirement already satisfied: fsspec in /Users/khumachbayramova/anaconda3/lib/python3.11/site-packages (from torch==2.2.2->torchaudio) (2023.4.0)\r\n",
      "Requirement already satisfied: MarkupSafe>=2.0 in /Users/khumachbayramova/anaconda3/lib/python3.11/site-packages (from jinja2->torch==2.2.2->torchaudio) (2.1.1)\r\n",
      "Requirement already satisfied: mpmath>=0.19 in /Users/khumachbayramova/anaconda3/lib/python3.11/site-packages (from sympy->torch==2.2.2->torchaudio) (1.3.0)\r\n",
      "Downloading torchaudio-2.2.2-cp311-cp311-macosx_11_0_arm64.whl (1.8 MB)\r\n",
      "\u001B[2K   \u001B[90m━━━━━━━━━━━━━━━━━━━━━━━━━━━━━━━━━━━━━━━━\u001B[0m \u001B[32m1.8/1.8 MB\u001B[0m \u001B[31m5.4 MB/s\u001B[0m eta \u001B[36m0:00:00\u001B[0ma \u001B[36m0:00:01\u001B[0m\r\n",
      "\u001B[?25hDownloading torch-2.2.2-cp311-none-macosx_11_0_arm64.whl (59.7 MB)\r\n",
      "\u001B[2K   \u001B[90m━━━━━━━━━━━━━━━━━━━━━━━━━━━━━━━━━━━━━━━━\u001B[0m \u001B[32m59.7/59.7 MB\u001B[0m \u001B[31m2.5 MB/s\u001B[0m eta \u001B[36m0:00:00\u001B[0m00:01\u001B[0m00:01\u001B[0m\r\n",
      "\u001B[?25hInstalling collected packages: torch, torchaudio\r\n",
      "  Attempting uninstall: torch\r\n",
      "    Found existing installation: torch 2.2.1\r\n",
      "    Uninstalling torch-2.2.1:\r\n",
      "      Successfully uninstalled torch-2.2.1\r\n",
      "\u001B[31mERROR: pip's dependency resolver does not currently take into account all the packages that are installed. This behaviour is the source of the following dependency conflicts.\r\n",
      "torchvision 0.17.1 requires torch==2.2.1, but you have torch 2.2.2 which is incompatible.\u001B[0m\u001B[31m\r\n",
      "\u001B[0mSuccessfully installed torch-2.2.2 torchaudio-2.2.2\r\n"
     ]
    }
   ],
   "source": [
    "!pip install torchaudio"
   ],
   "metadata": {
    "collapsed": false,
    "ExecuteTime": {
     "end_time": "2024-03-29T16:25:27.360891Z",
     "start_time": "2024-03-29T16:24:57.455172Z"
    }
   },
   "id": "ae04a267e8e0cd60",
   "execution_count": 2
  },
  {
   "cell_type": "code",
   "outputs": [],
   "source": [
    "# Import of modules\n",
    "import os\n",
    "import sys\n",
    "from math import sqrt, pi\n",
    "from scipy.fftpack import dct\n",
    "import numpy as np\n",
    "import matplotlib.pyplot as plt\n",
    "from matplotlib.pyplot import hist, plot, show, grid, title, \\\n",
    "xlabel, ylabel, legend, axis, imshow\n",
    "from mpl_toolkits.axes_grid1 import make_axes_locatable\n",
    "from skimage.morphology import opening, closing\n",
    "from torchaudio.transforms import Resample\n",
    "from multiprocessing import Pool\n",
    "import torchaudio"
   ],
   "metadata": {
    "collapsed": false,
    "ExecuteTime": {
     "end_time": "2024-03-29T16:32:04.386999Z",
     "start_time": "2024-03-29T16:32:00.497180Z"
    }
   },
   "id": "674567b818e9650c",
   "execution_count": 4
  },
  {
   "cell_type": "code",
   "outputs": [
    {
     "data": {
      "text/plain": "array([-0.01758547, -0.01545886, -0.01521348, ...,  0.02339277,\n        0.00523475, -0.00654343], dtype=float32)"
     },
     "execution_count": 6,
     "metadata": {},
     "output_type": "execute_result"
    }
   ],
   "source": [
    "signal, sample_rate = torchaudio.load(\"id10271/1gtz-CUIygI/00001.wav\")\n",
    "signal = signal.numpy().squeeze(axis=0)\n",
    "signal = signal/np.abs(signal).max()\n",
    "signal"
   ],
   "metadata": {
    "collapsed": false,
    "ExecuteTime": {
     "end_time": "2024-03-29T16:32:29.163451Z",
     "start_time": "2024-03-29T16:32:29.152683Z"
    }
   },
   "id": "404800c3818ef7bc",
   "execution_count": 6
  },
  {
   "cell_type": "code",
   "outputs": [],
   "source": [],
   "metadata": {
    "collapsed": false
   },
   "id": "c044a0ea6808d521"
  }
 ],
 "metadata": {
  "kernelspec": {
   "display_name": "Python 3",
   "language": "python",
   "name": "python3"
  },
  "language_info": {
   "codemirror_mode": {
    "name": "ipython",
    "version": 2
   },
   "file_extension": ".py",
   "mimetype": "text/x-python",
   "name": "python",
   "nbconvert_exporter": "python",
   "pygments_lexer": "ipython2",
   "version": "2.7.6"
  }
 },
 "nbformat": 4,
 "nbformat_minor": 5
}
